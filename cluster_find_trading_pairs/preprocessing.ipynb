{
 "cells": [
  {
   "cell_type": "code",
   "metadata": {
    "collapsed": true,
    "ExecuteTime": {
     "end_time": "2024-06-28T06:40:56.933373Z",
     "start_time": "2024-06-28T06:40:56.134112Z"
    }
   },
   "source": [
    "import yfinance as yf\n",
    "import numpy as np\n",
    "import pandas as pd\n",
    "import requests\n",
    "import bs4 as bs\n",
    "import pickle\n",
    "from matplotlib import pyplot as plt"
   ],
   "outputs": [],
   "execution_count": 1
  },
  {
   "cell_type": "code",
   "source": [
    "def save_sp500_tickers():\n",
    "    resp = requests.get('http://en.wikipedia.org/wiki/List_of_S%26P_500_companies')\n",
    "    soup = bs.BeautifulSoup(resp.text, 'lxml')\n",
    "    table = soup.find('table', {'class': 'wikitable sortable'})\n",
    "    tickers = []\n",
    "    for row in table.findAll('tr')[1:]:\n",
    "        ticker = row.findAll('td')[0].text\n",
    "        tickers.append(ticker)\n",
    "\n",
    "    with open(\"../sp500tickers.pickle\", \"wb\") as f:\n",
    "        pickle.dump(tickers, f)\n",
    "\n",
    "    return tickers\n",
    "tickers = save_sp500_tickers()\n",
    "for i in range (len(tickers)):\n",
    "    tickers[i]=tickers[i].replace('\\n', '')\n",
    "print(len(tickers))\n",
    "print(tickers)"
   ],
   "metadata": {
    "collapsed": false,
    "ExecuteTime": {
     "end_time": "2024-06-28T06:41:05.523212Z",
     "start_time": "2024-06-28T06:41:02.031025Z"
    }
   },
   "outputs": [
    {
     "name": "stdout",
     "output_type": "stream",
     "text": [
      "503\n",
      "['MMM', 'AOS', 'ABT', 'ABBV', 'ACN', 'ADBE', 'AMD', 'AES', 'AFL', 'A', 'APD', 'ABNB', 'AKAM', 'ALB', 'ARE', 'ALGN', 'ALLE', 'LNT', 'ALL', 'GOOGL', 'GOOG', 'MO', 'AMZN', 'AMCR', 'AEE', 'AAL', 'AEP', 'AXP', 'AIG', 'AMT', 'AWK', 'AMP', 'AME', 'AMGN', 'APH', 'ADI', 'ANSS', 'AON', 'APA', 'AAPL', 'AMAT', 'APTV', 'ACGL', 'ADM', 'ANET', 'AJG', 'AIZ', 'T', 'ATO', 'ADSK', 'ADP', 'AZO', 'AVB', 'AVY', 'AXON', 'BKR', 'BALL', 'BAC', 'BK', 'BBWI', 'BAX', 'BDX', 'BRK.B', 'BBY', 'BIO', 'TECH', 'BIIB', 'BLK', 'BX', 'BA', 'BKNG', 'BWA', 'BXP', 'BSX', 'BMY', 'AVGO', 'BR', 'BRO', 'BF.B', 'BLDR', 'BG', 'CDNS', 'CZR', 'CPT', 'CPB', 'COF', 'CAH', 'KMX', 'CCL', 'CARR', 'CTLT', 'CAT', 'CBOE', 'CBRE', 'CDW', 'CE', 'COR', 'CNC', 'CNP', 'CF', 'CHRW', 'CRL', 'SCHW', 'CHTR', 'CVX', 'CMG', 'CB', 'CHD', 'CI', 'CINF', 'CTAS', 'CSCO', 'C', 'CFG', 'CLX', 'CME', 'CMS', 'KO', 'CTSH', 'CL', 'CMCSA', 'CAG', 'COP', 'ED', 'STZ', 'CEG', 'COO', 'CPRT', 'GLW', 'CPAY', 'CTVA', 'CSGP', 'COST', 'CTRA', 'CRWD', 'CCI', 'CSX', 'CMI', 'CVS', 'DHR', 'DRI', 'DVA', 'DAY', 'DECK', 'DE', 'DAL', 'DVN', 'DXCM', 'FANG', 'DLR', 'DFS', 'DG', 'DLTR', 'D', 'DPZ', 'DOV', 'DOW', 'DHI', 'DTE', 'DUK', 'DD', 'EMN', 'ETN', 'EBAY', 'ECL', 'EIX', 'EW', 'EA', 'ELV', 'LLY', 'EMR', 'ENPH', 'ETR', 'EOG', 'EPAM', 'EQT', 'EFX', 'EQIX', 'EQR', 'ESS', 'EL', 'ETSY', 'EG', 'EVRG', 'ES', 'EXC', 'EXPE', 'EXPD', 'EXR', 'XOM', 'FFIV', 'FDS', 'FICO', 'FAST', 'FRT', 'FDX', 'FIS', 'FITB', 'FSLR', 'FE', 'FI', 'FMC', 'F', 'FTNT', 'FTV', 'FOXA', 'FOX', 'BEN', 'FCX', 'GRMN', 'IT', 'GE', 'GEHC', 'GEV', 'GEN', 'GNRC', 'GD', 'GIS', 'GM', 'GPC', 'GILD', 'GPN', 'GL', 'GDDY', 'GS', 'HAL', 'HIG', 'HAS', 'HCA', 'DOC', 'HSIC', 'HSY', 'HES', 'HPE', 'HLT', 'HOLX', 'HD', 'HON', 'HRL', 'HST', 'HWM', 'HPQ', 'HUBB', 'HUM', 'HBAN', 'HII', 'IBM', 'IEX', 'IDXX', 'ITW', 'INCY', 'IR', 'PODD', 'INTC', 'ICE', 'IFF', 'IP', 'IPG', 'INTU', 'ISRG', 'IVZ', 'INVH', 'IQV', 'IRM', 'JBHT', 'JBL', 'JKHY', 'J', 'JNJ', 'JCI', 'JPM', 'JNPR', 'K', 'KVUE', 'KDP', 'KEY', 'KEYS', 'KMB', 'KIM', 'KMI', 'KKR', 'KLAC', 'KHC', 'KR', 'LHX', 'LH', 'LRCX', 'LW', 'LVS', 'LDOS', 'LEN', 'LIN', 'LYV', 'LKQ', 'LMT', 'L', 'LOW', 'LULU', 'LYB', 'MTB', 'MRO', 'MPC', 'MKTX', 'MAR', 'MMC', 'MLM', 'MAS', 'MA', 'MTCH', 'MKC', 'MCD', 'MCK', 'MDT', 'MRK', 'META', 'MET', 'MTD', 'MGM', 'MCHP', 'MU', 'MSFT', 'MAA', 'MRNA', 'MHK', 'MOH', 'TAP', 'MDLZ', 'MPWR', 'MNST', 'MCO', 'MS', 'MOS', 'MSI', 'MSCI', 'NDAQ', 'NTAP', 'NFLX', 'NEM', 'NWSA', 'NWS', 'NEE', 'NKE', 'NI', 'NDSN', 'NSC', 'NTRS', 'NOC', 'NCLH', 'NRG', 'NUE', 'NVDA', 'NVR', 'NXPI', 'ORLY', 'OXY', 'ODFL', 'OMC', 'ON', 'OKE', 'ORCL', 'OTIS', 'PCAR', 'PKG', 'PANW', 'PARA', 'PH', 'PAYX', 'PAYC', 'PYPL', 'PNR', 'PEP', 'PFE', 'PCG', 'PM', 'PSX', 'PNW', 'PNC', 'POOL', 'PPG', 'PPL', 'PFG', 'PG', 'PGR', 'PLD', 'PRU', 'PEG', 'PTC', 'PSA', 'PHM', 'QRVO', 'PWR', 'QCOM', 'DGX', 'RL', 'RJF', 'RTX', 'O', 'REG', 'REGN', 'RF', 'RSG', 'RMD', 'RVTY', 'ROK', 'ROL', 'ROP', 'ROST', 'RCL', 'SPGI', 'CRM', 'SBAC', 'SLB', 'STX', 'SRE', 'NOW', 'SHW', 'SPG', 'SWKS', 'SJM', 'SNA', 'SOLV', 'SO', 'LUV', 'SWK', 'SBUX', 'STT', 'STLD', 'STE', 'SYK', 'SMCI', 'SYF', 'SNPS', 'SYY', 'TMUS', 'TROW', 'TTWO', 'TPR', 'TRGP', 'TGT', 'TEL', 'TDY', 'TFX', 'TER', 'TSLA', 'TXN', 'TXT', 'TMO', 'TJX', 'TSCO', 'TT', 'TDG', 'TRV', 'TRMB', 'TFC', 'TYL', 'TSN', 'USB', 'UBER', 'UDR', 'ULTA', 'UNP', 'UAL', 'UPS', 'URI', 'UNH', 'UHS', 'VLO', 'VTR', 'VLTO', 'VRSN', 'VRSK', 'VZ', 'VRTX', 'VTRS', 'VICI', 'V', 'VST', 'VMC', 'WRB', 'GWW', 'WAB', 'WBA', 'WMT', 'DIS', 'WBD', 'WM', 'WAT', 'WEC', 'WFC', 'WELL', 'WST', 'WDC', 'WRK', 'WY', 'WMB', 'WTW', 'WYNN', 'XEL', 'XYL', 'YUM', 'ZBRA', 'ZBH', 'ZTS']\n"
     ]
    }
   ],
   "execution_count": 2
  },
  {
   "cell_type": "code",
   "source": [
    "def define_stocks(start_date, end_date ,number_of_stocks):\n",
    "    raw_data = yf.download(tickers[0:number_of_stocks], start=start_date, end=end_date, interval=\"1d\")\n",
    "    raw_data_close = raw_data['Close']\n",
    "\n",
    "    # remove stocks that have one or more missing values\n",
    "    data = raw_data_close.dropna(axis=1)\n",
    "    remaining_stocks = len(data.columns)\n",
    "    stocks_removed = number_of_stocks - remaining_stocks\n",
    "\n",
    "    # Print a message to say how many stocks were removed\n",
    "    print(\"Stocks removed are:\", stocks_removed)\n",
    "    print(\"Remaining stocks are:\", remaining_stocks)\n",
    "\n",
    "    return data"
   ],
   "metadata": {
    "collapsed": false,
    "ExecuteTime": {
     "end_time": "2024-06-28T06:56:48.446972Z",
     "start_time": "2024-06-28T06:56:48.436658Z"
    }
   },
   "outputs": [],
   "execution_count": 11
  },
  {
   "cell_type": "code",
   "source": [
    "stock_data = define_stocks(\"2016-01-01\", \"2024-06-25\", 503)\n",
    "# stock_data.head()"
   ],
   "metadata": {
    "collapsed": false,
    "ExecuteTime": {
     "end_time": "2024-06-28T08:05:16.857224Z",
     "start_time": "2024-06-28T07:58:59.046271Z"
    }
   },
   "outputs": [
    {
     "name": "stderr",
     "output_type": "stream",
     "text": [
      "[*********************100%%**********************]  503 of 503 completed\n",
      "\n",
      "8 Failed downloads:\n",
      "['RJF', 'MSCI', 'CMS', 'ORCL', 'HON', 'BSX']: ConnectionError(ReadTimeoutError(\"HTTPSConnectionPool(host='query2.finance.yahoo.com', port=443): Read timed out.\"))\n",
      "['BF.B']: YFPricesMissingError('$%ticker%: possibly delisted; No price data found  (1d 2016-01-01 -> 2024-06-24)')\n",
      "['BRK.B']: YFTzMissingError('$%ticker%: possibly delisted; No timezone found')\n"
     ]
    },
    {
     "name": "stdout",
     "output_type": "stream",
     "text": [
      "Stocks removed are: 32\n",
      "Remaining stocks are: 471\n"
     ]
    }
   ],
   "execution_count": 23
  },
  {
   "cell_type": "code",
   "execution_count": 13,
   "outputs": [
    {
     "name": "stdout",
     "output_type": "stream",
     "text": [
      "(2109, 478)\n"
     ]
    },
    {
     "data": {
      "text/plain": "         count        mean         std        min         25%         50%  \\\nTicker                                                                      \nA       2109.0   95.000631   37.426942  34.799999   65.750000   82.930000   \nAAL     2109.0   27.468160   13.316499   9.040000   14.870000   24.230000   \nAAPL    2109.0   94.865173   57.665658  22.584999   42.259998   74.389999   \nABBV    2109.0  104.583983   34.314967  51.180000   76.949997   96.059998   \nABT     2109.0   84.753400   28.813370  36.340000   58.820000   88.230003   \n...        ...         ...         ...        ...         ...         ...   \nXYL     2109.0   82.685258   25.084863  32.799999   66.029999   79.610001   \nYUM     2109.0   99.577078   25.074788  46.901508   79.430000  100.900002   \nZBH     2109.0  122.998550   15.633024  78.281555  112.563110  120.650002   \nZBRA    2109.0  241.798169  140.610393  46.930000  123.230003  231.410004   \nZTS     2109.0  125.451351   53.106812  39.330002   77.589996  132.210007   \n\n               75%         max  \nTicker                          \nA       129.880005  179.279999  \nAAL      38.759998   58.470001  \nAAPL    149.399994  198.110001  \nABBV    138.279999  182.100006  \nABT     109.269997  141.460007  \n...            ...         ...  \nXYL     102.290001  145.770004  \nYUM     121.839996  143.190002  \nZBH     130.611649  173.407761  \nZBRA    299.429993  614.549988  \nZTS     169.320007  247.029999  \n\n[478 rows x 8 columns]",
      "text/html": "<div>\n<style scoped>\n    .dataframe tbody tr th:only-of-type {\n        vertical-align: middle;\n    }\n\n    .dataframe tbody tr th {\n        vertical-align: top;\n    }\n\n    .dataframe thead th {\n        text-align: right;\n    }\n</style>\n<table border=\"1\" class=\"dataframe\">\n  <thead>\n    <tr style=\"text-align: right;\">\n      <th></th>\n      <th>count</th>\n      <th>mean</th>\n      <th>std</th>\n      <th>min</th>\n      <th>25%</th>\n      <th>50%</th>\n      <th>75%</th>\n      <th>max</th>\n    </tr>\n    <tr>\n      <th>Ticker</th>\n      <th></th>\n      <th></th>\n      <th></th>\n      <th></th>\n      <th></th>\n      <th></th>\n      <th></th>\n      <th></th>\n    </tr>\n  </thead>\n  <tbody>\n    <tr>\n      <th>A</th>\n      <td>2109.0</td>\n      <td>95.000631</td>\n      <td>37.426942</td>\n      <td>34.799999</td>\n      <td>65.750000</td>\n      <td>82.930000</td>\n      <td>129.880005</td>\n      <td>179.279999</td>\n    </tr>\n    <tr>\n      <th>AAL</th>\n      <td>2109.0</td>\n      <td>27.468160</td>\n      <td>13.316499</td>\n      <td>9.040000</td>\n      <td>14.870000</td>\n      <td>24.230000</td>\n      <td>38.759998</td>\n      <td>58.470001</td>\n    </tr>\n    <tr>\n      <th>AAPL</th>\n      <td>2109.0</td>\n      <td>94.865173</td>\n      <td>57.665658</td>\n      <td>22.584999</td>\n      <td>42.259998</td>\n      <td>74.389999</td>\n      <td>149.399994</td>\n      <td>198.110001</td>\n    </tr>\n    <tr>\n      <th>ABBV</th>\n      <td>2109.0</td>\n      <td>104.583983</td>\n      <td>34.314967</td>\n      <td>51.180000</td>\n      <td>76.949997</td>\n      <td>96.059998</td>\n      <td>138.279999</td>\n      <td>182.100006</td>\n    </tr>\n    <tr>\n      <th>ABT</th>\n      <td>2109.0</td>\n      <td>84.753400</td>\n      <td>28.813370</td>\n      <td>36.340000</td>\n      <td>58.820000</td>\n      <td>88.230003</td>\n      <td>109.269997</td>\n      <td>141.460007</td>\n    </tr>\n    <tr>\n      <th>...</th>\n      <td>...</td>\n      <td>...</td>\n      <td>...</td>\n      <td>...</td>\n      <td>...</td>\n      <td>...</td>\n      <td>...</td>\n      <td>...</td>\n    </tr>\n    <tr>\n      <th>XYL</th>\n      <td>2109.0</td>\n      <td>82.685258</td>\n      <td>25.084863</td>\n      <td>32.799999</td>\n      <td>66.029999</td>\n      <td>79.610001</td>\n      <td>102.290001</td>\n      <td>145.770004</td>\n    </tr>\n    <tr>\n      <th>YUM</th>\n      <td>2109.0</td>\n      <td>99.577078</td>\n      <td>25.074788</td>\n      <td>46.901508</td>\n      <td>79.430000</td>\n      <td>100.900002</td>\n      <td>121.839996</td>\n      <td>143.190002</td>\n    </tr>\n    <tr>\n      <th>ZBH</th>\n      <td>2109.0</td>\n      <td>122.998550</td>\n      <td>15.633024</td>\n      <td>78.281555</td>\n      <td>112.563110</td>\n      <td>120.650002</td>\n      <td>130.611649</td>\n      <td>173.407761</td>\n    </tr>\n    <tr>\n      <th>ZBRA</th>\n      <td>2109.0</td>\n      <td>241.798169</td>\n      <td>140.610393</td>\n      <td>46.930000</td>\n      <td>123.230003</td>\n      <td>231.410004</td>\n      <td>299.429993</td>\n      <td>614.549988</td>\n    </tr>\n    <tr>\n      <th>ZTS</th>\n      <td>2109.0</td>\n      <td>125.451351</td>\n      <td>53.106812</td>\n      <td>39.330002</td>\n      <td>77.589996</td>\n      <td>132.210007</td>\n      <td>169.320007</td>\n      <td>247.029999</td>\n    </tr>\n  </tbody>\n</table>\n<p>478 rows × 8 columns</p>\n</div>"
     },
     "execution_count": 13,
     "metadata": {},
     "output_type": "execute_result"
    }
   ],
   "source": [
    "print(stock_data.shape)\n",
    "stock_data.to_csv(\"../data/raw_data.csv\")\n",
    "stock_data.describe().T"
   ],
   "metadata": {
    "collapsed": false
   }
  },
  {
   "cell_type": "code",
   "execution_count": 14,
   "outputs": [
    {
     "data": {
      "text/plain": "        0         1         2         3         4         5         6    \\\n0       NaN       NaN       NaN       NaN       NaN       NaN       NaN   \n1 -0.003441 -0.009533 -0.025059 -0.004166 -0.000233  0.003631  0.005205   \n2  0.004439  0.017522  -0.01957  0.000174 -0.008388  0.001592 -0.001954   \n3 -0.042475 -0.018918 -0.042205 -0.002963 -0.023966 -0.001011 -0.029366   \n4 -0.010513 -0.001978  0.005288 -0.027268 -0.020944 -0.010414 -0.009681   \n\n        7         8         9    ...       468       469       470       471  \\\n0       NaN       NaN       NaN  ...       NaN       NaN       NaN       NaN   \n1  0.004023 -0.007347  0.011161  ...   0.00688  0.002347  0.018904  0.010084   \n2 -0.014295 -0.042561 -0.024283  ...       0.0 -0.022074 -0.051805  0.010538   \n3 -0.020984 -0.025512 -0.023756  ... -0.086538 -0.036936  -0.09407  0.003842   \n4  -0.01414 -0.008727 -0.003766  ...  0.014528 -0.009233 -0.040704 -0.010935   \n\n        472       473       474       475       476       477  \n0       NaN       NaN       NaN       NaN       NaN       NaN  \n1  0.008521 -0.000277 -0.002493  0.020823 -0.025117  0.015655  \n2 -0.008321 -0.012476  -0.00708   0.00433 -0.039957  0.000208  \n3 -0.016006 -0.025828 -0.034116 -0.022993 -0.045316 -0.030404  \n4 -0.020202  -0.00951 -0.013607 -0.004217 -0.002693 -0.014605  \n\n[5 rows x 478 columns]",
      "text/html": "<div>\n<style scoped>\n    .dataframe tbody tr th:only-of-type {\n        vertical-align: middle;\n    }\n\n    .dataframe tbody tr th {\n        vertical-align: top;\n    }\n\n    .dataframe thead th {\n        text-align: right;\n    }\n</style>\n<table border=\"1\" class=\"dataframe\">\n  <thead>\n    <tr style=\"text-align: right;\">\n      <th></th>\n      <th>0</th>\n      <th>1</th>\n      <th>2</th>\n      <th>3</th>\n      <th>4</th>\n      <th>5</th>\n      <th>6</th>\n      <th>7</th>\n      <th>8</th>\n      <th>9</th>\n      <th>...</th>\n      <th>468</th>\n      <th>469</th>\n      <th>470</th>\n      <th>471</th>\n      <th>472</th>\n      <th>473</th>\n      <th>474</th>\n      <th>475</th>\n      <th>476</th>\n      <th>477</th>\n    </tr>\n  </thead>\n  <tbody>\n    <tr>\n      <th>0</th>\n      <td>NaN</td>\n      <td>NaN</td>\n      <td>NaN</td>\n      <td>NaN</td>\n      <td>NaN</td>\n      <td>NaN</td>\n      <td>NaN</td>\n      <td>NaN</td>\n      <td>NaN</td>\n      <td>NaN</td>\n      <td>...</td>\n      <td>NaN</td>\n      <td>NaN</td>\n      <td>NaN</td>\n      <td>NaN</td>\n      <td>NaN</td>\n      <td>NaN</td>\n      <td>NaN</td>\n      <td>NaN</td>\n      <td>NaN</td>\n      <td>NaN</td>\n    </tr>\n    <tr>\n      <th>1</th>\n      <td>-0.003441</td>\n      <td>-0.009533</td>\n      <td>-0.025059</td>\n      <td>-0.004166</td>\n      <td>-0.000233</td>\n      <td>0.003631</td>\n      <td>0.005205</td>\n      <td>0.004023</td>\n      <td>-0.007347</td>\n      <td>0.011161</td>\n      <td>...</td>\n      <td>0.00688</td>\n      <td>0.002347</td>\n      <td>0.018904</td>\n      <td>0.010084</td>\n      <td>0.008521</td>\n      <td>-0.000277</td>\n      <td>-0.002493</td>\n      <td>0.020823</td>\n      <td>-0.025117</td>\n      <td>0.015655</td>\n    </tr>\n    <tr>\n      <th>2</th>\n      <td>0.004439</td>\n      <td>0.017522</td>\n      <td>-0.01957</td>\n      <td>0.000174</td>\n      <td>-0.008388</td>\n      <td>0.001592</td>\n      <td>-0.001954</td>\n      <td>-0.014295</td>\n      <td>-0.042561</td>\n      <td>-0.024283</td>\n      <td>...</td>\n      <td>0.0</td>\n      <td>-0.022074</td>\n      <td>-0.051805</td>\n      <td>0.010538</td>\n      <td>-0.008321</td>\n      <td>-0.012476</td>\n      <td>-0.00708</td>\n      <td>0.00433</td>\n      <td>-0.039957</td>\n      <td>0.000208</td>\n    </tr>\n    <tr>\n      <th>3</th>\n      <td>-0.042475</td>\n      <td>-0.018918</td>\n      <td>-0.042205</td>\n      <td>-0.002963</td>\n      <td>-0.023966</td>\n      <td>-0.001011</td>\n      <td>-0.029366</td>\n      <td>-0.020984</td>\n      <td>-0.025512</td>\n      <td>-0.023756</td>\n      <td>...</td>\n      <td>-0.086538</td>\n      <td>-0.036936</td>\n      <td>-0.09407</td>\n      <td>0.003842</td>\n      <td>-0.016006</td>\n      <td>-0.025828</td>\n      <td>-0.034116</td>\n      <td>-0.022993</td>\n      <td>-0.045316</td>\n      <td>-0.030404</td>\n    </tr>\n    <tr>\n      <th>4</th>\n      <td>-0.010513</td>\n      <td>-0.001978</td>\n      <td>0.005288</td>\n      <td>-0.027268</td>\n      <td>-0.020944</td>\n      <td>-0.010414</td>\n      <td>-0.009681</td>\n      <td>-0.01414</td>\n      <td>-0.008727</td>\n      <td>-0.003766</td>\n      <td>...</td>\n      <td>0.014528</td>\n      <td>-0.009233</td>\n      <td>-0.040704</td>\n      <td>-0.010935</td>\n      <td>-0.020202</td>\n      <td>-0.00951</td>\n      <td>-0.013607</td>\n      <td>-0.004217</td>\n      <td>-0.002693</td>\n      <td>-0.014605</td>\n    </tr>\n  </tbody>\n</table>\n<p>5 rows × 478 columns</p>\n</div>"
     },
     "execution_count": 14,
     "metadata": {},
     "output_type": "execute_result"
    }
   ],
   "source": [
    "data_place_holder = stock_data\n",
    "n_row = len(data_place_holder)\n",
    "## Empty data frame to fill with the return series\n",
    "data_return = pd.DataFrame(index=range(n_row),columns=range(len(data_place_holder.columns)))\n",
    "## Loop through each stock and calculate its return series\n",
    "for i in range(len(data_place_holder.columns)):\n",
    "    for j in range(n_row-1):\n",
    "        data_return.iloc[j+1,i] = (data_place_holder.iloc[j+1,i] - data_place_holder.iloc[j,i]) / data_place_holder.iloc[j,i]\n",
    "\n",
    "data_return.head()"
   ],
   "metadata": {
    "collapsed": false
   }
  },
  {
   "cell_type": "code",
   "execution_count": 15,
   "outputs": [
    {
     "data": {
      "text/plain": "        0         1         2         3         4         5         6    \\\n0       NaN       NaN       NaN       NaN       NaN       NaN       NaN   \n1 -0.248163 -0.288812 -1.428912 -0.291923 -0.050395  0.157723  0.285137   \n2   0.21532  0.526781 -1.129142 -0.027978 -0.587979  0.041869 -0.162921   \n3 -2.544178 -0.571731 -2.365155 -0.218752 -1.614974 -0.106037 -1.878631   \n4 -0.664153 -0.061054  0.228236 -1.696812 -1.415724 -0.640229 -0.646588   \n\n        7         8         9    ...       468       469       470       471  \\\n0       NaN       NaN       NaN  ...       NaN       NaN       NaN       NaN   \n1  0.141127 -0.419008   0.62438  ...  0.412599  0.100152  0.583809  0.707926   \n2 -0.718857 -2.219129 -1.432763  ... -0.029298 -1.060559 -1.678196  0.740799   \n3 -1.032905 -1.347592 -1.402179  ... -5.587596 -1.766968 -3.030255   0.25582   \n4 -0.711573 -0.489511 -0.241971  ...  0.903831 -0.450235 -1.323073 -0.814468   \n\n        472       473       474       475       476       477  \n0       NaN       NaN       NaN       NaN       NaN       NaN  \n1  0.447067 -0.062973 -0.211262  1.163966 -1.042604  0.913124  \n2 -0.476525 -0.767853 -0.527344  0.231077 -1.633636 -0.033369  \n3 -0.898016 -1.539407 -2.390076 -1.314335 -1.847063  -1.90917  \n4 -1.128123 -0.596488 -0.977047 -0.252319 -0.149566  -0.94106  \n\n[5 rows x 478 columns]",
      "text/html": "<div>\n<style scoped>\n    .dataframe tbody tr th:only-of-type {\n        vertical-align: middle;\n    }\n\n    .dataframe tbody tr th {\n        vertical-align: top;\n    }\n\n    .dataframe thead th {\n        text-align: right;\n    }\n</style>\n<table border=\"1\" class=\"dataframe\">\n  <thead>\n    <tr style=\"text-align: right;\">\n      <th></th>\n      <th>0</th>\n      <th>1</th>\n      <th>2</th>\n      <th>3</th>\n      <th>4</th>\n      <th>5</th>\n      <th>6</th>\n      <th>7</th>\n      <th>8</th>\n      <th>9</th>\n      <th>...</th>\n      <th>468</th>\n      <th>469</th>\n      <th>470</th>\n      <th>471</th>\n      <th>472</th>\n      <th>473</th>\n      <th>474</th>\n      <th>475</th>\n      <th>476</th>\n      <th>477</th>\n    </tr>\n  </thead>\n  <tbody>\n    <tr>\n      <th>0</th>\n      <td>NaN</td>\n      <td>NaN</td>\n      <td>NaN</td>\n      <td>NaN</td>\n      <td>NaN</td>\n      <td>NaN</td>\n      <td>NaN</td>\n      <td>NaN</td>\n      <td>NaN</td>\n      <td>NaN</td>\n      <td>...</td>\n      <td>NaN</td>\n      <td>NaN</td>\n      <td>NaN</td>\n      <td>NaN</td>\n      <td>NaN</td>\n      <td>NaN</td>\n      <td>NaN</td>\n      <td>NaN</td>\n      <td>NaN</td>\n      <td>NaN</td>\n    </tr>\n    <tr>\n      <th>1</th>\n      <td>-0.248163</td>\n      <td>-0.288812</td>\n      <td>-1.428912</td>\n      <td>-0.291923</td>\n      <td>-0.050395</td>\n      <td>0.157723</td>\n      <td>0.285137</td>\n      <td>0.141127</td>\n      <td>-0.419008</td>\n      <td>0.62438</td>\n      <td>...</td>\n      <td>0.412599</td>\n      <td>0.100152</td>\n      <td>0.583809</td>\n      <td>0.707926</td>\n      <td>0.447067</td>\n      <td>-0.062973</td>\n      <td>-0.211262</td>\n      <td>1.163966</td>\n      <td>-1.042604</td>\n      <td>0.913124</td>\n    </tr>\n    <tr>\n      <th>2</th>\n      <td>0.21532</td>\n      <td>0.526781</td>\n      <td>-1.129142</td>\n      <td>-0.027978</td>\n      <td>-0.587979</td>\n      <td>0.041869</td>\n      <td>-0.162921</td>\n      <td>-0.718857</td>\n      <td>-2.219129</td>\n      <td>-1.432763</td>\n      <td>...</td>\n      <td>-0.029298</td>\n      <td>-1.060559</td>\n      <td>-1.678196</td>\n      <td>0.740799</td>\n      <td>-0.476525</td>\n      <td>-0.767853</td>\n      <td>-0.527344</td>\n      <td>0.231077</td>\n      <td>-1.633636</td>\n      <td>-0.033369</td>\n    </tr>\n    <tr>\n      <th>3</th>\n      <td>-2.544178</td>\n      <td>-0.571731</td>\n      <td>-2.365155</td>\n      <td>-0.218752</td>\n      <td>-1.614974</td>\n      <td>-0.106037</td>\n      <td>-1.878631</td>\n      <td>-1.032905</td>\n      <td>-1.347592</td>\n      <td>-1.402179</td>\n      <td>...</td>\n      <td>-5.587596</td>\n      <td>-1.766968</td>\n      <td>-3.030255</td>\n      <td>0.25582</td>\n      <td>-0.898016</td>\n      <td>-1.539407</td>\n      <td>-2.390076</td>\n      <td>-1.314335</td>\n      <td>-1.847063</td>\n      <td>-1.90917</td>\n    </tr>\n    <tr>\n      <th>4</th>\n      <td>-0.664153</td>\n      <td>-0.061054</td>\n      <td>0.228236</td>\n      <td>-1.696812</td>\n      <td>-1.415724</td>\n      <td>-0.640229</td>\n      <td>-0.646588</td>\n      <td>-0.711573</td>\n      <td>-0.489511</td>\n      <td>-0.241971</td>\n      <td>...</td>\n      <td>0.903831</td>\n      <td>-0.450235</td>\n      <td>-1.323073</td>\n      <td>-0.814468</td>\n      <td>-1.128123</td>\n      <td>-0.596488</td>\n      <td>-0.977047</td>\n      <td>-0.252319</td>\n      <td>-0.149566</td>\n      <td>-0.94106</td>\n    </tr>\n  </tbody>\n</table>\n<p>5 rows × 478 columns</p>\n</div>"
     },
     "execution_count": 15,
     "metadata": {},
     "output_type": "execute_result"
    }
   ],
   "source": [
    "normalized_return = (data_return - data_return.mean()) / data_return.std()\n",
    "# normalized_return.to_csv(\"./data/normalized_return.csv\")\n",
    "normalized_return.head()"
   ],
   "metadata": {
    "collapsed": false
   }
  },
  {
   "cell_type": "code",
   "execution_count": 16,
   "outputs": [
    {
     "data": {
      "text/plain": "          1         2         3         4         5         6         7     \\\nA    -0.248163   0.21532 -2.544178 -0.664153 -1.036544  0.341807 -2.094259   \nAAL  -0.288812  0.526781 -0.571731 -0.061054  0.528747  0.673683 -1.365156   \nAAPL -1.428912 -1.129142 -2.365155  0.228236  0.823694  0.732015 -1.464459   \nABBV -0.291923 -0.027978 -0.218752 -1.696812 -1.972781  1.044939 -4.097187   \nABT  -0.050395 -0.587979 -1.614974 -1.415724  0.062223  1.146507 -1.911301   \n\n          8         9         10    ...      2099      2100      2101  \\\nA     1.151056 -0.827764  0.096871  ...  0.230313  0.591263  0.918083   \nAAL   0.336858 -1.332144  0.076344  ... -0.824516  0.358197  0.123998   \nAAPL  1.133781   -1.3719  -0.32474  ...  0.146843  0.041283  0.486334   \nABBV   3.97757  3.060007 -2.530897  ... -0.105844 -0.824226 -0.057532   \nABT   1.307005 -0.933262 -0.213912  ...  0.295705 -0.798772 -0.204654   \n\n          2102      2103      2104      2105      2106      2107      2108  \nA     1.826554 -0.831314  1.355468  1.042913  0.042019 -0.076278  0.110586  \nAAL  -0.167982  1.108088  0.523537 -0.497572 -0.304097 -0.123727 -0.431203  \nAAPL -0.510215  0.903048  0.276603  0.606671 -0.025971  -0.05188  0.275982  \nABBV  0.094118  0.161921  0.078308  0.789364  0.169344  0.727356 -0.718254  \nABT   0.009052 -0.016155 -0.513242  0.332576  0.141454 -0.525366 -0.592368  \n\n[5 rows x 2108 columns]",
      "text/html": "<div>\n<style scoped>\n    .dataframe tbody tr th:only-of-type {\n        vertical-align: middle;\n    }\n\n    .dataframe tbody tr th {\n        vertical-align: top;\n    }\n\n    .dataframe thead th {\n        text-align: right;\n    }\n</style>\n<table border=\"1\" class=\"dataframe\">\n  <thead>\n    <tr style=\"text-align: right;\">\n      <th></th>\n      <th>1</th>\n      <th>2</th>\n      <th>3</th>\n      <th>4</th>\n      <th>5</th>\n      <th>6</th>\n      <th>7</th>\n      <th>8</th>\n      <th>9</th>\n      <th>10</th>\n      <th>...</th>\n      <th>2099</th>\n      <th>2100</th>\n      <th>2101</th>\n      <th>2102</th>\n      <th>2103</th>\n      <th>2104</th>\n      <th>2105</th>\n      <th>2106</th>\n      <th>2107</th>\n      <th>2108</th>\n    </tr>\n  </thead>\n  <tbody>\n    <tr>\n      <th>A</th>\n      <td>-0.248163</td>\n      <td>0.21532</td>\n      <td>-2.544178</td>\n      <td>-0.664153</td>\n      <td>-1.036544</td>\n      <td>0.341807</td>\n      <td>-2.094259</td>\n      <td>1.151056</td>\n      <td>-0.827764</td>\n      <td>0.096871</td>\n      <td>...</td>\n      <td>0.230313</td>\n      <td>0.591263</td>\n      <td>0.918083</td>\n      <td>1.826554</td>\n      <td>-0.831314</td>\n      <td>1.355468</td>\n      <td>1.042913</td>\n      <td>0.042019</td>\n      <td>-0.076278</td>\n      <td>0.110586</td>\n    </tr>\n    <tr>\n      <th>AAL</th>\n      <td>-0.288812</td>\n      <td>0.526781</td>\n      <td>-0.571731</td>\n      <td>-0.061054</td>\n      <td>0.528747</td>\n      <td>0.673683</td>\n      <td>-1.365156</td>\n      <td>0.336858</td>\n      <td>-1.332144</td>\n      <td>0.076344</td>\n      <td>...</td>\n      <td>-0.824516</td>\n      <td>0.358197</td>\n      <td>0.123998</td>\n      <td>-0.167982</td>\n      <td>1.108088</td>\n      <td>0.523537</td>\n      <td>-0.497572</td>\n      <td>-0.304097</td>\n      <td>-0.123727</td>\n      <td>-0.431203</td>\n    </tr>\n    <tr>\n      <th>AAPL</th>\n      <td>-1.428912</td>\n      <td>-1.129142</td>\n      <td>-2.365155</td>\n      <td>0.228236</td>\n      <td>0.823694</td>\n      <td>0.732015</td>\n      <td>-1.464459</td>\n      <td>1.133781</td>\n      <td>-1.3719</td>\n      <td>-0.32474</td>\n      <td>...</td>\n      <td>0.146843</td>\n      <td>0.041283</td>\n      <td>0.486334</td>\n      <td>-0.510215</td>\n      <td>0.903048</td>\n      <td>0.276603</td>\n      <td>0.606671</td>\n      <td>-0.025971</td>\n      <td>-0.05188</td>\n      <td>0.275982</td>\n    </tr>\n    <tr>\n      <th>ABBV</th>\n      <td>-0.291923</td>\n      <td>-0.027978</td>\n      <td>-0.218752</td>\n      <td>-1.696812</td>\n      <td>-1.972781</td>\n      <td>1.044939</td>\n      <td>-4.097187</td>\n      <td>3.97757</td>\n      <td>3.060007</td>\n      <td>-2.530897</td>\n      <td>...</td>\n      <td>-0.105844</td>\n      <td>-0.824226</td>\n      <td>-0.057532</td>\n      <td>0.094118</td>\n      <td>0.161921</td>\n      <td>0.078308</td>\n      <td>0.789364</td>\n      <td>0.169344</td>\n      <td>0.727356</td>\n      <td>-0.718254</td>\n    </tr>\n    <tr>\n      <th>ABT</th>\n      <td>-0.050395</td>\n      <td>-0.587979</td>\n      <td>-1.614974</td>\n      <td>-1.415724</td>\n      <td>0.062223</td>\n      <td>1.146507</td>\n      <td>-1.911301</td>\n      <td>1.307005</td>\n      <td>-0.933262</td>\n      <td>-0.213912</td>\n      <td>...</td>\n      <td>0.295705</td>\n      <td>-0.798772</td>\n      <td>-0.204654</td>\n      <td>0.009052</td>\n      <td>-0.016155</td>\n      <td>-0.513242</td>\n      <td>0.332576</td>\n      <td>0.141454</td>\n      <td>-0.525366</td>\n      <td>-0.592368</td>\n    </tr>\n  </tbody>\n</table>\n<p>5 rows × 2108 columns</p>\n</div>"
     },
     "execution_count": 16,
     "metadata": {},
     "output_type": "execute_result"
    }
   ],
   "source": [
    "transposed_data = normalized_return.transpose()\n",
    "transposed_data.index = [list(stock_data.columns)]\n",
    "del transposed_data[0]\n",
    "transposed_data.to_csv(\"../data/processed_data.csv\")\n",
    "transposed_data.head()"
   ],
   "metadata": {
    "collapsed": false
   }
  },
  {
   "cell_type": "code",
   "execution_count": 16,
   "outputs": [],
   "source": [],
   "metadata": {
    "collapsed": false
   }
  }
 ],
 "metadata": {
  "kernelspec": {
   "display_name": "Python 3",
   "language": "python",
   "name": "python3"
  },
  "language_info": {
   "codemirror_mode": {
    "name": "ipython",
    "version": 2
   },
   "file_extension": ".py",
   "mimetype": "text/x-python",
   "name": "python",
   "nbconvert_exporter": "python",
   "pygments_lexer": "ipython2",
   "version": "2.7.6"
  }
 },
 "nbformat": 4,
 "nbformat_minor": 0
}
